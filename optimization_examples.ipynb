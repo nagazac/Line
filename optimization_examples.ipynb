{
 "cells": [
  {
   "cell_type": "markdown",
   "id": "e7b85398",
   "metadata": {},
   "source": [
    "# Optimization Examples with Gradient Descent and Newton's Method\n",
    "\n",
    "This notebook runs each example function using both Gradient Descent (GD) and Newton's Method (NT), and displays:\n",
    "- Final iterate and function value for each method.\n",
    "- Contour plot overlaying both GD and NT paths.\n",
    "- Log-scale plot of function value vs iteration for both methods.\n",
    "\n",
    "We import the necessary modules and utilities to generate these outputs."
   ]
  },
  {
   "cell_type": "code",
   "execution_count": null,
   "id": "bb6a1a97",
   "metadata": {},
   "outputs": [],
   "source": [
    "import sys\n",
    "import os\n",
    "\n",
    "import numpy as np\n",
    "from src.unconstrained_min import minimize, get_history\n",
    "from src.utils import plot_contour_two, plot_function_values_two\n",
    "\n",
    "from tests.examples import (\n",
    "    q_circle,\n",
    "    q_ellipse_axis,\n",
    "    q_ellipse_rotated,\n",
    "    rosenbrock,\n",
    "    linear_func,\n",
    "    smooth_corner\n",
    ")"
   ]
  },
  {
   "cell_type": "code",
   "execution_count": null,
   "id": "28fd2bd7",
   "metadata": {},
   "outputs": [],
   "source": [
    "def run_and_plot(func, func_name, x0, tol_obj, tol_param, max_iter_gd, max_iter_nt,\n",
    "                 xlims, ylims, levels, formula_str):\n",
    "    # Run GD\n",
    "    i_g, xg, fg, success_gd = minimize(f=func, x0=x0, algo=\"grad\", obj_tol=tol_obj, param_tol=tol_param, max_iter=max_iter_gd)\n",
    "    hist_gd = get_history()\n",
    "    print(f\"GD Final for {func_name}: Iteration = {i_g}, x* = {xg}, f(x*) = {fg:.6e}, Success = {success_gd}\")\n",
    "\n",
    "    # Run NT\n",
    "    i_n, xn, fn, success_nt = minimize(f=func, x0=x0, algo=\"newton\", obj_tol=tol_obj, param_tol=tol_param, max_iter=max_iter_nt)\n",
    "    hist_nt = get_history()\n",
    "    print(f\"NT Final for {func_name}: Iteration = {i_n}, x* = {xn}, f(x*) = {fn:.6e}, Success = {success_nt}\")\n",
    "\n",
    "    # Plot contours and paths\n",
    "    title = f\"{func_name} Contour and Paths\\n({formula_str})\"\n",
    "    plot_contour_two(func, x_range=xlims, y_range=ylims, hist_gd=hist_gd, hist_nt=hist_nt,\n",
    "                     levels=levels, title=title, gdl_color=\"red\", ntl_color=\"blue\")\n",
    "\n",
    "    # Plot function values vs iteration\n",
    "    title_fv = f\"{func_name} f(x) vs Iteration\\n({formula_str})\"\n",
    "    plot_function_values_two(hist_gd=hist_gd, hist_nt=hist_nt,\n",
    "                             title=title_fv, gdl_color=\"red\", ntl_color=\"blue\")"
   ]
  },
  {
   "cell_type": "markdown",
   "id": "0f6d27ae",
   "metadata": {},
   "source": [
    "## Quad Circle\n",
    "## Formula: f(x) = x₁² + x₂²"
   ]
  },
  {
   "cell_type": "code",
   "execution_count": null,
   "id": "f26705e2",
   "metadata": {},
   "outputs": [],
   "source": [
    "run_and_plot(q_circle, 'Quad Circle', [1.0, 1.0], 1e-12, 1e-08, 100, 100, (-1.1, 1.1), (-1.1, 1.1), np.linspace(0, 2, 30), 'f(x) = x₁² + x₂²')"
   ]
  },
  {
   "cell_type": "markdown",
   "id": "5ee30077",
   "metadata": {},
   "source": [
    "## Quad Ellipse Axis Aligned\n",
    "## Formula: f(x) = x₁² + 100 x₂²"
   ]
  },
  {
   "cell_type": "code",
   "execution_count": null,
   "id": "873d1500",
   "metadata": {},
   "outputs": [],
   "source": [
    "run_and_plot(q_ellipse_axis, 'Quad Ellipse Axis Aligned', [1.0, 1.0], 1e-12, 1e-08, 100, 100, (-1.1, 1.1), (-0.15, 0.15), np.logspace(-3, 2, 40), 'f(x) = x₁² + 100 x₂²')"
   ]
  },
  {
   "cell_type": "markdown",
   "id": "b68f38ed",
   "metadata": {},
   "source": [
    "## Quad Ellipse Rotated\n",
    "## Formula: f(x) = xᵀ Q x, rotated"
   ]
  },
  {
   "cell_type": "code",
   "execution_count": null,
   "id": "e084a44f",
   "metadata": {},
   "outputs": [],
   "source": [
    "run_and_plot(q_ellipse_rotated, 'Quad Ellipse Rotated', [1.0, 1.0], 1e-12, 1e-08, 100, 100, (-1.2, 1.2), (-1.2, 1.2), np.logspace(-3, 2, 40), 'f(x) = xᵀ Q x, rotated')"
   ]
  },
  {
   "cell_type": "markdown",
   "id": "dd7b1554",
   "metadata": {},
   "source": [
    "## Rosenbrock\n",
    "## Formula: f(x) = 100(x₂ − x₁²)² + (1 − x₁)²"
   ]
  },
  {
   "cell_type": "code",
   "execution_count": null,
   "id": "3f333e5a",
   "metadata": {},
   "outputs": [],
   "source": [
    "run_and_plot(rosenbrock, 'Rosenbrock', [-1.0, 2.0], 1e-12, 1e-08, 10000, 100, (-1.5, 2.0), (-0.5, 2.5), np.logspace(-1, 3, 50), 'f(x) = 100(x₂ − x₁²)² + (1 − x₁)²')"
   ]
  },
  {
   "cell_type": "markdown",
   "id": "35d476a4",
   "metadata": {},
   "source": [
    "## Linear Function\n",
    "## Formula: f(x) = [−6, 8]ᵀ x"
   ]
  },
  {
   "cell_type": "code",
   "execution_count": null,
   "id": "730caae2",
   "metadata": {},
   "outputs": [],
   "source": [
    "run_and_plot(linear_func, 'Linear Function', [1.0, 1.0], 1e-12, 1e-08, 100, 100, (0.0, 1.0), (-1.0, 1.0), np.linspace(-1.0, 3.0, 20), 'f(x) = [−6, 8]ᵀ x')"
   ]
  },
  {
   "cell_type": "markdown",
   "id": "610c3ff8",
   "metadata": {},
   "source": [
    "## Smooth Corner\n",
    " Formula: f(x) = e^{x₁ + 3 x₂ − 0.1} + ..."
   ]
  },
  {
   "cell_type": "code",
   "execution_count": null,
   "id": "734d56cb",
   "metadata": {},
   "outputs": [],
   "source": [
    "run_and_plot(smooth_corner, 'Smooth Corner', [1.0, 1.0], 1e-12, 1e-08, 100, 100, (-1.0, 2.0), (-1.0, 1.0), np.logspace(-1, 2, 40), 'f(x) = e^{x₁ + 3 x₂ − 0.1} + ...')"
   ]
  }
 ],
 "metadata": {
  "language_info": {
   "name": "python"
  }
 },
 "nbformat": 4,
 "nbformat_minor": 5
}
